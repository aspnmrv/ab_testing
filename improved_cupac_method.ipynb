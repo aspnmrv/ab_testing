{
 "cells": [
  {
   "cell_type": "code",
   "execution_count": 1,
   "id": "52771a90",
   "metadata": {},
   "outputs": [],
   "source": [
    "import numpy as np\n",
    "import pandas as pd\n",
    "import matplotlib.pyplot as plt\n",
    "\n",
    "from scipy.stats import ttest_ind\n",
    "from typing import List\n",
    "from collections import defaultdict\n",
    "\n",
    "from scipy import stats\n",
    "from scipy.stats import norm\n",
    "from sklearn.linear_model import LinearRegression\n",
    "from tqdm import tqdm\n"
   ]
  },
  {
   "cell_type": "code",
   "execution_count": 2,
   "id": "a56a7c09",
   "metadata": {},
   "outputs": [],
   "source": [
    "def generate_data_with_correlation(\n",
    "    size: int,\n",
    "    ate: float,\n",
    "    pre_corr: float,\n",
    "    exp_corr: float,\n",
    "    y_before_corr: float,\n",
    "    x_corr: List[float],\n",
    "    seed: int = None\n",
    ") -> pd.DataFrame:\n",
    "    \"\"\"\"\"\"\n",
    "    \n",
    "    if seed is not None:\n",
    "        np.random.seed(seed)\n",
    "    \n",
    "    X = np.random.multivariate_normal(\n",
    "        mean=[0, 0, 0], \n",
    "        cov=[[1, pre_corr, pre_corr], \n",
    "        [pre_corr, 1, pre_corr], \n",
    "        [pre_corr, pre_corr, 1]], \n",
    "        size=size\n",
    "    )\n",
    "    \n",
    "    X1, X2, X3 = X[:, 0], X[:, 1], X[:, 2]\n",
    "\n",
    "    T = np.random.binomial(n=1, p=0.5, size=size)\n",
    "    \n",
    "    Y_before = np.random.normal(0, 1, size)\n",
    "\n",
    "#     Y_before = x_corr[0] * X1 + x_corr[1] * X2 + x_corr[2] * X3 #+ np.random.normal(0, 0.1, size)\n",
    "\n",
    "    W_group_0 = np.random.multivariate_normal(\n",
    "        mean=[0, 0, 0], \n",
    "        cov=[[1, exp_corr, exp_corr], \n",
    "        [exp_corr, 1, exp_corr], \n",
    "        [exp_corr, exp_corr, 1]], \n",
    "        size=size // 2\n",
    "    )\n",
    "    \n",
    "    W_group_1 = np.random.multivariate_normal(\n",
    "        mean=[0.1, -0.1, 0.2], \n",
    "        cov=[[1, exp_corr, exp_corr], \n",
    "        [exp_corr, 1, exp_corr], \n",
    "        [exp_corr, exp_corr, 1]], \n",
    "        size=size // 2\n",
    "    )\n",
    "\n",
    "    W = np.vstack((W_group_0, W_group_1))\n",
    "\n",
    "    np.random.shuffle(W)\n",
    "\n",
    "    W1, W2, W3 = W[:, 0], W[:, 1], W[:, 2]\n",
    "\n",
    "    Y = Y_before * y_before_corr + T * ate + 0.4 * W1 + 0.3 * W2 + 0.3 * W3 + x_corr[0] * X1 + x_corr[1] * X2 + x_corr[2] * X3\n",
    "\n",
    "    group_0_W = W[T == 0]\n",
    "    group_1_W = W[T == 1]\n",
    "\n",
    "#     for i in range(3):\n",
    "#         stat, p_value = ttest_ind(group_0_W[:, i], group_1_W[:, i])\n",
    "#         if p_value < 0.05:\n",
    "#             print(f\"Statistically significant difference found in W{i+1}: p-value = {p_value:.4f}\")\n",
    "\n",
    "    data = pd.DataFrame({\n",
    "        \"Y\": Y,\n",
    "        \"Y_before\": Y_before,\n",
    "        \"T\": T,\n",
    "        \"X1\": X1,\n",
    "        \"X2\": X2,\n",
    "        \"X3\": X3,\n",
    "        \"W1\": W1,\n",
    "        \"W2\": W2,\n",
    "        \"W3\": W3\n",
    "    })\n",
    "\n",
    "    return data\n"
   ]
  },
  {
   "cell_type": "markdown",
   "id": "1b76caf6",
   "metadata": {},
   "source": [
    "https://habr.com/ru/companies/X5Tech/articles/780270/"
   ]
  },
  {
   "cell_type": "code",
   "execution_count": 3,
   "id": "8b4cb550",
   "metadata": {},
   "outputs": [],
   "source": [
    "def calculate_theta(metrics: pd.Series, covariates: pd.Series) -> float:\n",
    "    \"\"\"\"\"\"\n",
    "    covariance = np.cov(covariates, metrics)[0, 1]\n",
    "    variance = covariates.var()\n",
    "    theta = covariance / variance\n",
    "    \n",
    "    return theta\n",
    "\n",
    "\n",
    "def check_ttest(df_control: pd.DataFrame, df_pilot: pd.DataFrame) -> float:\n",
    "    \"\"\"\"\"\"\n",
    "    \n",
    "    values_control = df_control[\"Y\"].values\n",
    "    values_pilot = df_pilot[\"Y\"].values\n",
    "    _, pvalue = stats.ttest_ind(values_control, values_pilot)\n",
    "    \n",
    "    return pvalue\n",
    "\n",
    "def check_cuped(df_control: pd.DataFrame, df_pilot: pd.DataFrame, covariate: str) -> float:\n",
    "    \"\"\"\"\"\"\n",
    "    \n",
    "    df_theta = pd.concat([df_control, df_pilot])\n",
    "    \n",
    "    theta = calculate_theta(df_theta[\"Y\"], df_theta[covariate])\n",
    "    metric_cuped_control = df_control[\"Y\"] - theta * df_control[covariate]\n",
    "    metric_cuped_pilot = df_pilot[\"Y\"] - theta * df_pilot[covariate]\n",
    "    _, pvalue = stats.ttest_ind(metric_cuped_control, metric_cuped_pilot)\n",
    "    \n",
    "    return pvalue\n",
    "\n",
    "\n",
    "def get_predict_cupac(df_control: pd.DataFrame, df_pilot: pd.DataFrame, covariates: List[str]) -> float:\n",
    "    \"\"\"\"\"\"\n",
    "    df = pd.concat([df_control, df_pilot])\n",
    "    \n",
    "    X = df[covariates]\n",
    "    y = df[\"Y\"]\n",
    "    \n",
    "    model = LinearRegression()\n",
    "    model.fit(X, y) # Here, in fact, it is CUNOPAC because we train on the entire sample\n",
    "    \n",
    "    # But since we are using a linear model, this is acceptable. \n",
    "    \n",
    "    df[\"pred\"] = model.predict(X)\n",
    "    \n",
    "    return df\n",
    "    \n",
    "\n",
    "\n",
    "def check_cupac(df_control: pd.DataFrame, df_pilot: pd.DataFrame, covariates: List[str]) -> float:\n",
    "    \"\"\"\"\"\"\n",
    "    predict_df = get_predict_cupac(df_control, df_pilot, covariates)\n",
    "    \n",
    "    df_control = predict_df[predict_df[\"T\"] == 0]\n",
    "    df_pilot = predict_df[predict_df[\"T\"] == 1]\n",
    "    \n",
    "    theta = calculate_theta(predict_df[\"Y\"], predict_df[\"pred\"])\n",
    "    \n",
    "    metric_cuped_control = df_control[\"Y\"] - theta * df_control[\"pred\"]\n",
    "    metric_cuped_pilot = df_pilot[\"Y\"] - theta * df_pilot[\"pred\"]\n",
    "\n",
    "    _, pvalue = stats.ttest_ind(metric_cuped_control, metric_cuped_pilot)\n",
    "    \n",
    "    \n",
    "    return pvalue\n",
    "\n",
    "\n",
    "\n",
    "def check_improved_cupac(\n",
    "    df_control: pd.DataFrame,\n",
    "    df_pilot: pd.DataFrame,\n",
    "    pre_experiment_covariates: List[str],\n",
    "    in_experiment_covariates: List[str]\n",
    ") -> float:\n",
    "    \"\"\"\"\"\"\n",
    "    \n",
    "    df = pd.concat([df_control, df_pilot])\n",
    "    \n",
    "    model_cuped = LinearRegression()\n",
    "    model_cuped.fit(df[pre_experiment_covariates], df['Y'])\n",
    "    df[\"Y_pred\"] = model_cuped.predict(df[pre_experiment_covariates])\n",
    "\n",
    "    df[\"R\"] = df[\"Y\"] - df[\"Y_pred\"]\n",
    "\n",
    "    model_cupac = LinearRegression()\n",
    "    model_cupac.fit(df[in_experiment_covariates], df[\"R\"])\n",
    "    gamma_hat = model_cupac.coef_\n",
    "    \n",
    "    df[\"R_adj\"] = df[\"R\"] - df[in_experiment_covariates].dot(gamma_hat)\n",
    "    \n",
    "    df_control = df[df[\"T\"] == 0]\n",
    "    df_pilot = df[df[\"T\"] == 1]\n",
    "\n",
    "    _, pvalue = stats.ttest_ind(df_control[\"R_adj\"], df_pilot[\"R_adj\"])\n",
    "\n",
    "    \n",
    "    return pvalue\n",
    "\n",
    "\n",
    "def plot_pvalue_distribution(dict_pvalues: dict) -> None:\n",
    "    \"\"\"\"\"\"\n",
    "    X = np.linspace(0, 1, 1000)\n",
    "    \n",
    "    for key, pvalues in dict_pvalues.items():\n",
    "        Y = [np.mean(pvalues < x) for x in X]\n",
    "        plt.plot(X, Y, label=key)\n",
    "    \n",
    "    plt.plot([0, 1], [0, 1], \"--k\", alpha=0.8)\n",
    "    plt.title(\"p-value distribution\", size=16)\n",
    "    plt.xlabel(\"p-value\", size=12)\n",
    "    plt.legend(fontsize=12)\n",
    "    plt.grid()\n",
    "    plt.show()\n",
    "    \n",
    "    return\n"
   ]
  },
  {
   "cell_type": "markdown",
   "id": "56cef7bc",
   "metadata": {},
   "source": [
    "Let's generate a dataset"
   ]
  },
  {
   "cell_type": "code",
   "execution_count": 4,
   "id": "0588e81b",
   "metadata": {},
   "outputs": [],
   "source": [
    "data = generate_data_with_correlation(\n",
    "        size=10000, # sample size\n",
    "        ate=0.01, # added effect size\n",
    "        pre_corr=0.5,\n",
    "        exp_corr=0.3,\n",
    "        y_before_corr=0.2, # correlations of Y_before with the outcome variable\n",
    "        x_corr=[0.4, 0.3, 0.1], # correlations of X with the outcome variable\n",
    "        seed=111,\n",
    "    )"
   ]
  },
  {
   "cell_type": "code",
   "execution_count": 5,
   "id": "0b724a79",
   "metadata": {},
   "outputs": [
    {
     "data": {
      "text/html": [
       "<div>\n",
       "<style scoped>\n",
       "    .dataframe tbody tr th:only-of-type {\n",
       "        vertical-align: middle;\n",
       "    }\n",
       "\n",
       "    .dataframe tbody tr th {\n",
       "        vertical-align: top;\n",
       "    }\n",
       "\n",
       "    .dataframe thead th {\n",
       "        text-align: right;\n",
       "    }\n",
       "</style>\n",
       "<table border=\"1\" class=\"dataframe\">\n",
       "  <thead>\n",
       "    <tr style=\"text-align: right;\">\n",
       "      <th></th>\n",
       "      <th>Y</th>\n",
       "      <th>Y_before</th>\n",
       "      <th>T</th>\n",
       "      <th>X1</th>\n",
       "      <th>X2</th>\n",
       "      <th>X3</th>\n",
       "      <th>W1</th>\n",
       "      <th>W2</th>\n",
       "      <th>W3</th>\n",
       "    </tr>\n",
       "  </thead>\n",
       "  <tbody>\n",
       "    <tr>\n",
       "      <th>Y</th>\n",
       "      <td>1.000000</td>\n",
       "      <td>0.201579</td>\n",
       "      <td>0.005033</td>\n",
       "      <td>0.591332</td>\n",
       "      <td>0.549372</td>\n",
       "      <td>0.457912</td>\n",
       "      <td>0.580045</td>\n",
       "      <td>0.478549</td>\n",
       "      <td>0.491935</td>\n",
       "    </tr>\n",
       "    <tr>\n",
       "      <th>Y_before</th>\n",
       "      <td>0.201579</td>\n",
       "      <td>1.000000</td>\n",
       "      <td>-0.008648</td>\n",
       "      <td>0.019907</td>\n",
       "      <td>0.006370</td>\n",
       "      <td>0.002806</td>\n",
       "      <td>0.001793</td>\n",
       "      <td>-0.027244</td>\n",
       "      <td>-0.002823</td>\n",
       "    </tr>\n",
       "    <tr>\n",
       "      <th>T</th>\n",
       "      <td>0.005033</td>\n",
       "      <td>-0.008648</td>\n",
       "      <td>1.000000</td>\n",
       "      <td>0.002118</td>\n",
       "      <td>-0.002585</td>\n",
       "      <td>-0.009397</td>\n",
       "      <td>-0.001446</td>\n",
       "      <td>0.002203</td>\n",
       "      <td>0.008713</td>\n",
       "    </tr>\n",
       "    <tr>\n",
       "      <th>X1</th>\n",
       "      <td>0.591332</td>\n",
       "      <td>0.019907</td>\n",
       "      <td>0.002118</td>\n",
       "      <td>1.000000</td>\n",
       "      <td>0.502692</td>\n",
       "      <td>0.518442</td>\n",
       "      <td>0.007236</td>\n",
       "      <td>-0.027486</td>\n",
       "      <td>-0.014263</td>\n",
       "    </tr>\n",
       "    <tr>\n",
       "      <th>X2</th>\n",
       "      <td>0.549372</td>\n",
       "      <td>0.006370</td>\n",
       "      <td>-0.002585</td>\n",
       "      <td>0.502692</td>\n",
       "      <td>1.000000</td>\n",
       "      <td>0.506150</td>\n",
       "      <td>0.017725</td>\n",
       "      <td>-0.017321</td>\n",
       "      <td>-0.005307</td>\n",
       "    </tr>\n",
       "    <tr>\n",
       "      <th>X3</th>\n",
       "      <td>0.457912</td>\n",
       "      <td>0.002806</td>\n",
       "      <td>-0.009397</td>\n",
       "      <td>0.518442</td>\n",
       "      <td>0.506150</td>\n",
       "      <td>1.000000</td>\n",
       "      <td>0.005371</td>\n",
       "      <td>-0.000149</td>\n",
       "      <td>-0.000251</td>\n",
       "    </tr>\n",
       "    <tr>\n",
       "      <th>W1</th>\n",
       "      <td>0.580045</td>\n",
       "      <td>0.001793</td>\n",
       "      <td>-0.001446</td>\n",
       "      <td>0.007236</td>\n",
       "      <td>0.017725</td>\n",
       "      <td>0.005371</td>\n",
       "      <td>1.000000</td>\n",
       "      <td>0.299065</td>\n",
       "      <td>0.300001</td>\n",
       "    </tr>\n",
       "    <tr>\n",
       "      <th>W2</th>\n",
       "      <td>0.478549</td>\n",
       "      <td>-0.027244</td>\n",
       "      <td>0.002203</td>\n",
       "      <td>-0.027486</td>\n",
       "      <td>-0.017321</td>\n",
       "      <td>-0.000149</td>\n",
       "      <td>0.299065</td>\n",
       "      <td>1.000000</td>\n",
       "      <td>0.286075</td>\n",
       "    </tr>\n",
       "    <tr>\n",
       "      <th>W3</th>\n",
       "      <td>0.491935</td>\n",
       "      <td>-0.002823</td>\n",
       "      <td>0.008713</td>\n",
       "      <td>-0.014263</td>\n",
       "      <td>-0.005307</td>\n",
       "      <td>-0.000251</td>\n",
       "      <td>0.300001</td>\n",
       "      <td>0.286075</td>\n",
       "      <td>1.000000</td>\n",
       "    </tr>\n",
       "  </tbody>\n",
       "</table>\n",
       "</div>"
      ],
      "text/plain": [
       "                 Y  Y_before         T        X1        X2        X3  \\\n",
       "Y         1.000000  0.201579  0.005033  0.591332  0.549372  0.457912   \n",
       "Y_before  0.201579  1.000000 -0.008648  0.019907  0.006370  0.002806   \n",
       "T         0.005033 -0.008648  1.000000  0.002118 -0.002585 -0.009397   \n",
       "X1        0.591332  0.019907  0.002118  1.000000  0.502692  0.518442   \n",
       "X2        0.549372  0.006370 -0.002585  0.502692  1.000000  0.506150   \n",
       "X3        0.457912  0.002806 -0.009397  0.518442  0.506150  1.000000   \n",
       "W1        0.580045  0.001793 -0.001446  0.007236  0.017725  0.005371   \n",
       "W2        0.478549 -0.027244  0.002203 -0.027486 -0.017321 -0.000149   \n",
       "W3        0.491935 -0.002823  0.008713 -0.014263 -0.005307 -0.000251   \n",
       "\n",
       "                W1        W2        W3  \n",
       "Y         0.580045  0.478549  0.491935  \n",
       "Y_before  0.001793 -0.027244 -0.002823  \n",
       "T        -0.001446  0.002203  0.008713  \n",
       "X1        0.007236 -0.027486 -0.014263  \n",
       "X2        0.017725 -0.017321 -0.005307  \n",
       "X3        0.005371 -0.000149 -0.000251  \n",
       "W1        1.000000  0.299065  0.300001  \n",
       "W2        0.299065  1.000000  0.286075  \n",
       "W3        0.300001  0.286075  1.000000  "
      ]
     },
     "execution_count": 5,
     "metadata": {},
     "output_type": "execute_result"
    }
   ],
   "source": [
    "data.corr()"
   ]
  },
  {
   "cell_type": "code",
   "execution_count": 6,
   "id": "738ae7ce",
   "metadata": {},
   "outputs": [],
   "source": [
    "df_control = data[data[\"T\"] == 0]\n",
    "df_pilot = data[data[\"T\"] == 1]"
   ]
  },
  {
   "cell_type": "code",
   "execution_count": 7,
   "id": "363e7984",
   "metadata": {},
   "outputs": [
    {
     "data": {
      "text/plain": [
       "0.6147762932764005"
      ]
     },
     "execution_count": 7,
     "metadata": {},
     "output_type": "execute_result"
    }
   ],
   "source": [
    "check_ttest(df_control, df_pilot)"
   ]
  },
  {
   "cell_type": "code",
   "execution_count": 8,
   "id": "179912f9",
   "metadata": {},
   "outputs": [
    {
     "data": {
      "text/plain": [
       "0.4890794449705197"
      ]
     },
     "execution_count": 8,
     "metadata": {},
     "output_type": "execute_result"
    }
   ],
   "source": [
    "check_cuped(df_control, df_pilot, \"Y_before\")"
   ]
  },
  {
   "cell_type": "code",
   "execution_count": 9,
   "id": "a4418454",
   "metadata": {},
   "outputs": [
    {
     "data": {
      "text/plain": [
       "0.28759664869658025"
      ]
     },
     "execution_count": 9,
     "metadata": {},
     "output_type": "execute_result"
    }
   ],
   "source": [
    "check_cupac(df_control, df_pilot, [\"Y_before\", \"X1\", \"X2\", \"X3\"])"
   ]
  },
  {
   "cell_type": "code",
   "execution_count": 10,
   "id": "fddf945f",
   "metadata": {},
   "outputs": [
    {
     "data": {
      "text/plain": [
       "0.054288452829773404"
      ]
     },
     "execution_count": 10,
     "metadata": {},
     "output_type": "execute_result"
    }
   ],
   "source": [
    "check_improved_cupac(df_control, df_pilot, [\"Y_before\", \"X1\", \"X2\", \"X3\"], [\"W1\"])"
   ]
  },
  {
   "cell_type": "code",
   "execution_count": 11,
   "id": "f1091254",
   "metadata": {},
   "outputs": [
    {
     "data": {
      "text/plain": [
       "0.006344707372710133"
      ]
     },
     "execution_count": 11,
     "metadata": {},
     "output_type": "execute_result"
    }
   ],
   "source": [
    "check_improved_cupac(df_control, df_pilot, [\"Y_before\", \"X1\", \"X2\", \"X3\"], [\"W1\", \"W2\"])"
   ]
  },
  {
   "cell_type": "markdown",
   "id": "b5d3d2d3",
   "metadata": {},
   "source": [
    "We observe that if the within-experiment covariates have a higher correlation with the outcome variable, then the improved CUPAC yields a greater reduction in variance"
   ]
  },
  {
   "cell_type": "code",
   "execution_count": 12,
   "id": "72f542c8",
   "metadata": {},
   "outputs": [],
   "source": [
    "def get_minimal_determinable_effect(std, sample_size, alpha=0.05, beta=0.2):\n",
    "    \"\"\"\"\"\"\n",
    "    \n",
    "    t_alpha = norm.ppf(1 - alpha / 2, loc=0, scale=1)\n",
    "    t_beta = norm.ppf(1 - beta, loc=0, scale=1)\n",
    "    disp_sum_sqrt = (2 * (std ** 2)) ** 0.5\n",
    "    mde = (t_alpha + t_beta) * disp_sum_sqrt / np.sqrt(sample_size)\n",
    "    \n",
    "    return mde\n"
   ]
  },
  {
   "cell_type": "code",
   "execution_count": 13,
   "id": "50a238b7",
   "metadata": {},
   "outputs": [
    {
     "data": {
      "text/plain": [
       "0.05587236326084488"
      ]
     },
     "execution_count": 13,
     "metadata": {},
     "output_type": "execute_result"
    }
   ],
   "source": [
    "get_minimal_determinable_effect(\n",
    "    df_control[\"Y\"].std(),\n",
    "    5000\n",
    ")"
   ]
  },
  {
   "cell_type": "markdown",
   "id": "b8038f32",
   "metadata": {},
   "source": [
    "A/A test"
   ]
  },
  {
   "cell_type": "code",
   "execution_count": 14,
   "id": "fa9a12b2",
   "metadata": {},
   "outputs": [
    {
     "name": "stderr",
     "output_type": "stream",
     "text": [
      "100%|███████████████████████████████████████| 5000/5000 [04:23<00:00, 18.94it/s]\n"
     ]
    },
    {
     "data": {
      "image/png": "[encoded data removed]",
      "text/plain": [
       "<Figure size 640x480 with 1 Axes>"
      ]
     },
     "metadata": {},
     "output_type": "display_data"
    }
   ],
   "source": [
    "\n",
    "dict_pvalues = defaultdict(list)\n",
    "\n",
    "for _ in tqdm(range(5000)):\n",
    "    data = generate_data_with_correlation(\n",
    "        size=5000,\n",
    "        ate=0.01,\n",
    "        pre_corr=0.5,\n",
    "        exp_corr=0.3,\n",
    "        y_before_corr=0.3,\n",
    "        x_corr=[0.3, 0.3, 0.1],\n",
    "    )\n",
    "    \n",
    "    df_control = data[data[\"T\"] == 0]\n",
    "    df_pilot = data[data[\"T\"] == 1]\n",
    "\n",
    "#     dict_pvalues['cuped A/B'].append(check_cuped(df_control, df_pilot))\n",
    "    dict_pvalues[\"cuped A/A\"].append(\n",
    "        check_cuped(\n",
    "        generate_data_with_correlation(\n",
    "            size=5000,\n",
    "            ate=0,\n",
    "            pre_corr=0.5,\n",
    "            exp_corr=0.3,\n",
    "            y_before_corr=0.3,\n",
    "            x_corr=[0.3, 0.3, 0.1],\n",
    "        ),\n",
    "        generate_data_with_correlation(\n",
    "            size=5000,\n",
    "            ate=0,\n",
    "            pre_corr=0.5,\n",
    "            exp_corr=0.3,\n",
    "            y_before_corr=0.3,\n",
    "            x_corr=[0.3, 0.3, 0.1],\n",
    "        ),\n",
    "        \"Y_before\"\n",
    "        )\n",
    "    )\n",
    "    dict_pvalues[\"cupac A/A\"].append(\n",
    "        check_cupac(\n",
    "        generate_data_with_correlation(\n",
    "            size=5000,\n",
    "            ate=0,\n",
    "            pre_corr=0.5,\n",
    "            exp_corr=0.3,\n",
    "            y_before_corr=0.3,\n",
    "            x_corr=[0.3, 0.3, 0.1],\n",
    "        ),\n",
    "        generate_data_with_correlation(\n",
    "            size=5000,\n",
    "            ate=0,\n",
    "            pre_corr=0.5,\n",
    "            exp_corr=0.3,\n",
    "            y_before_corr=0.3,\n",
    "            x_corr=[0.3, 0.3, 0.1],\n",
    "        ),\n",
    "        [\"Y_before\", \"X1\", \"X2\", \"X3\"]\n",
    "        )\n",
    "    )\n",
    "    dict_pvalues[\"improved cupac A/A\"].append(\n",
    "        check_improved_cupac(\n",
    "        generate_data_with_correlation(\n",
    "            size=5000,\n",
    "            ate=0,\n",
    "            pre_corr=0.5,\n",
    "            exp_corr=0.3,\n",
    "            y_before_corr=0.3,\n",
    "            x_corr=[0.3, 0.3, 0.1],\n",
    "        ),\n",
    "        generate_data_with_correlation(\n",
    "            size=5000,\n",
    "            ate=0,\n",
    "            pre_corr=0.5,\n",
    "            exp_corr=0.3,\n",
    "            y_before_corr=0.3,\n",
    "            x_corr=[0.3, 0.3, 0.1],\n",
    "        ),\n",
    "        [\"Y_before\", \"X1\", \"X2\", \"X3\"],\n",
    "        [\"W1\"]\n",
    "        )\n",
    "    )\n",
    "#     dict_pvalues['cupac A/B'].append(check_cupac(df_control, df_pilot, [\"Y_before\", \"X1\", \"X2\", \"X3\"]))\n",
    "#     dict_pvalues['ttest A/B'].append(check_ttest(df_control, df_pilot))\n",
    "#     dict_pvalues['improved cupac A/B'].append(check_improved_cupac(df_control, df_pilot, [\"Y_before\", \"X1\", \"X2\", \"X3\"], [\"W1\"]))\n",
    "\n",
    "plot_pvalue_distribution(dict_pvalues)"
   ]
  },
  {
   "cell_type": "markdown",
   "id": "e4f740a7",
   "metadata": {},
   "source": [
    "A/B test"
   ]
  },
  {
   "cell_type": "code",
   "execution_count": 15,
   "id": "dcdb8693",
   "metadata": {},
   "outputs": [
    {
     "name": "stderr",
     "output_type": "stream",
     "text": [
      "100%|███████████████████████████████████████| 3000/3000 [00:49<00:00, 60.47it/s]\n"
     ]
    },
    {
     "data": {
      "image/png": "[encoded data removed]",
      "text/plain": [
       "<Figure size 640x480 with 1 Axes>"
      ]
     },
     "metadata": {},
     "output_type": "display_data"
    }
   ],
   "source": [
    "dict_pvalues = defaultdict(list)\n",
    "\n",
    "for _ in tqdm(range(3000)):\n",
    "    data = generate_data_with_correlation(\n",
    "        size=5000,\n",
    "        ate=0.01,\n",
    "        pre_corr=0.5,\n",
    "        exp_corr=0.3,\n",
    "        y_before_corr=0.3,\n",
    "        x_corr=[0.3, 0.3, 0.1],\n",
    "    )\n",
    "    \n",
    "    df_control = data[data[\"T\"] == 0]\n",
    "    df_pilot = data[data[\"T\"] == 1]\n",
    "\n",
    "    dict_pvalues[\"cuped A/B\"].append(check_cuped(df_control, df_pilot, \"Y_before\"))\n",
    "    dict_pvalues[\"cupac A/B\"].append(check_cupac(df_control, df_pilot, [\"Y_before\", \"X1\", \"X2\", \"X3\"]))\n",
    "    dict_pvalues[\"ttest A/B\"].append(check_ttest(df_control, df_pilot))\n",
    "    dict_pvalues[\"improved cupac A/B\"].append(check_improved_cupac(df_control, df_pilot, [\"Y_before\", \"X1\", \"X2\", \"X3\"], [\"W1\"]))\n",
    "\n",
    "plot_pvalue_distribution(dict_pvalues)"
   ]
  },
  {
   "cell_type": "code",
   "execution_count": 16,
   "id": "9e76c4e4",
   "metadata": {},
   "outputs": [],
   "source": [
    "# dict_pvalues = defaultdict(list)\n",
    "\n",
    "# for _ in tqdm(range(1000)):\n",
    "#     data = generate_data_with_correlation(\n",
    "#         size=10000,\n",
    "#         ate=0.015,\n",
    "#         pre_corr=0.9,\n",
    "#         exp_corr=0.1,\n",
    "#         y_before_corr=0.01,\n",
    "#         x_corr=[0.9, 0.9, 0.8]\n",
    "#     )\n",
    "    \n",
    "#     df_control = data[data[\"T\"] == 0]\n",
    "#     df_pilot = data[data[\"T\"] == 1]\n",
    "\n",
    "#     dict_pvalues[\"cuped A/B\"].append(check_cuped(df_control, df_pilot))\n",
    "#     dict_pvalues[\"cupac A/B\"].append(check_cupac(df_control, df_pilot, [\"Y_before\", \"X1\", \"X2\", \"X3\"]))\n",
    "#     dict_pvalues[\"ttest A/B\"].append(check_ttest(df_control, df_pilot))\n",
    "#     dict_pvalues[\"improved cupac A/B\"].append(check_improved_cupac(df_control, df_pilot, [\"Y_before\", \"X1\", \"X2\", \"X3\"], [\"W1\"]))\n",
    "\n",
    "# plot_pvalue_distribution(dict_pvalues)"
   ]
  },
  {
   "cell_type": "markdown",
   "id": "2aa6ff33",
   "metadata": {},
   "source": [
    "If the residuals of a model trained on pre-experimental covariates are correlated with the within-experimental variables, we obtain an increase in the proportion of reduced variance"
   ]
  },
  {
   "cell_type": "code",
   "execution_count": null,
   "id": "2c93f901",
   "metadata": {},
   "outputs": [],
   "source": []
  }
 ],
 "metadata": {
  "kernelspec": {
   "display_name": "Python 3 (ipykernel)",
   "language": "python",
   "name": "python3"
  },
  "language_info": {
   "codemirror_mode": {
    "name": "ipython",
    "version": 3
   },
   "file_extension": ".py",
   "mimetype": "text/x-python",
   "name": "python",
   "nbconvert_exporter": "python",
   "pygments_lexer": "ipython3",
   "version": "3.11.9"
  },
  "vscode": {
   "interpreter": {
    "hash": "4bd47627eeb889cc051934ef213c8fff214b68c68756492f194bc0175ff32d48"
   }
  }
 },
 "nbformat": 4,
 "nbformat_minor": 5
}
