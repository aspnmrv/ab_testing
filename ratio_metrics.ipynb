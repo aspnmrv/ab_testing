{
 "cells": [
  {
   "cell_type": "code",
   "execution_count": 1,
   "id": "f76f1ab1",
   "metadata": {},
   "outputs": [],
   "source": [
    "import pandas as pd\n",
    "import numpy as np\n",
    "import matplotlib.pyplot as plt\n",
    "\n",
    "from scipy import stats\n",
    "from tqdm import tqdm"
   ]
  },
  {
   "cell_type": "code",
   "execution_count": 2,
   "id": "ae0bddfa",
   "metadata": {},
   "outputs": [],
   "source": [
    "def build_groups(n_users: int, min_orders: int = 0) -> list:\n",
    "    \"\"\"Generating data with simulated AOV metric\"\"\"\n",
    "\n",
    "    result = list()\n",
    "\n",
    "    user_orders = np.random.randint(min_orders, 10, n_users)\n",
    "    avg_costs = np.random.normal(1000, 100, n_users)\n",
    "\n",
    "    for orders, cost in zip(user_orders, avg_costs):\n",
    "        result.append(np.random.normal(cost, 100, orders))\n",
    "        \n",
    "    return result\n"
   ]
  },
  {
   "cell_type": "markdown",
   "id": "472a5f9d",
   "metadata": {},
   "source": [
    "Let's calculate the statistical significance using a t-test in a naive way expanding the purchases of each user\n",
    "\n",
    "And let’s estimate the share of errors of the first type"
   ]
  },
  {
   "cell_type": "code",
   "execution_count": 3,
   "id": "c531cd9e",
   "metadata": {},
   "outputs": [
    {
     "name": "stderr",
     "output_type": "stream",
     "text": [
      "100%|██████████████████████████████████████| 1000/1000 [00:01<00:00, 507.15it/s]\n"
     ]
    }
   ],
   "source": [
    "p_values = list()\n",
    "\n",
    "for _ in tqdm(range(1000)):\n",
    "\n",
    "    a = np.hstack(build_groups(1000, 1))\n",
    "    b = np.hstack(build_groups(1000, 1))\n",
    "    \n",
    "    p_value = stats.ttest_ind(a, b)[1]\n",
    "    p_values.append(p_value < 0.05)"
   ]
  },
  {
   "cell_type": "code",
   "execution_count": 4,
   "id": "01433342",
   "metadata": {},
   "outputs": [
    {
     "data": {
      "text/plain": [
       "0.306"
      ]
     },
     "execution_count": 4,
     "metadata": {},
     "output_type": "execute_result"
    }
   ],
   "source": [
    "np.mean(p_values)"
   ]
  },
  {
   "cell_type": "markdown",
   "id": "3647c7b0",
   "metadata": {},
   "source": [
    "The share of type I errors is greater than the expected value of 0.05"
   ]
  },
  {
   "cell_type": "markdown",
   "id": "e1b41e9f",
   "metadata": {},
   "source": [
    "Let's calculate the statistical significance of the t-test by averaging the user's purchase costs (average of the average)\n",
    "\n",
    "And let’s estimate the share of errors of the first type"
   ]
  },
  {
   "cell_type": "code",
   "execution_count": 5,
   "id": "edd1d614",
   "metadata": {},
   "outputs": [
    {
     "name": "stderr",
     "output_type": "stream",
     "text": [
      "100%|██████████████████████████████████████| 1000/1000 [00:05<00:00, 187.92it/s]\n"
     ]
    }
   ],
   "source": [
    "p_values = list()\n",
    "\n",
    "for _ in tqdm(range(1000)):\n",
    "\n",
    "    a = [np.mean(val) for val in build_groups(1000, 1)]\n",
    "    b = [np.mean(val) for val in build_groups(1000, 1)]\n",
    "    \n",
    "    p_value = stats.ttest_ind(a, b)[1]\n",
    "    p_values.append(p_value < 0.05)"
   ]
  },
  {
   "cell_type": "code",
   "execution_count": 6,
   "id": "75661ea8",
   "metadata": {},
   "outputs": [
    {
     "data": {
      "text/plain": [
       "0.043"
      ]
     },
     "execution_count": 6,
     "metadata": {},
     "output_type": "execute_result"
    }
   ],
   "source": [
    "np.mean(p_values)"
   ]
  },
  {
   "cell_type": "markdown",
   "id": "2ceabcdc",
   "metadata": {},
   "source": [
    "The value of the share of errors of the first type corresponds to the expected"
   ]
  },
  {
   "cell_type": "markdown",
   "id": "a26db1b0",
   "metadata": {},
   "source": [
    "But such a metric is not aligned with the original metric of the average bill"
   ]
  },
  {
   "cell_type": "code",
   "execution_count": 7,
   "id": "bdc4842a",
   "metadata": {},
   "outputs": [
    {
     "name": "stdout",
     "output_type": "stream",
     "text": [
      "AOV I: 1333.3333333333333\n",
      "AOV II: 1350.0\n",
      "\n",
      "Average per user I: 1500.0\n",
      "Average per user I: 1262.5\n"
     ]
    }
   ],
   "source": [
    "a = {\n",
    "    \"user1\": [1000, 1000],\n",
    "    \"user2\": [2000]\n",
    "}\n",
    "\n",
    "b = {\n",
    "    \"user1\": [1500, 1550],\n",
    "    \"user2\": [1000]\n",
    "}\n",
    "\n",
    "aov_a, aov_b = np.mean(np.hstack(list(a.values()))), np.mean(np.hstack(list(b.values())))\n",
    "mean_mean_a = (np.mean(a[\"user1\"]) + np.mean(a[\"user2\"])) / len(a)\n",
    "mean_mean_b = (np.mean(b[\"user1\"]) + np.mean(b[\"user2\"])) / len(b)\n",
    "\n",
    "print(f\"AOV I: {aov_a}\\nAOV II: {aov_b}\\n\\nAverage per user I: {mean_mean_a}\\nAverage per user I: {mean_mean_b}\")"
   ]
  },
  {
   "cell_type": "markdown",
   "id": "f2993e70",
   "metadata": {},
   "source": [
    "Metrics are not directed equally"
   ]
  },
  {
   "cell_type": "code",
   "execution_count": 8,
   "id": "d65a3f6f",
   "metadata": {},
   "outputs": [],
   "source": [
    "def delta_method(a: list, b: list) -> float:\n",
    "    \"\"\"Returns p-value calculated by the delta method\"\"\"\n",
    "    \n",
    "    stat_list = list()\n",
    "    disp_list = list()\n",
    "    \n",
    "    for data in [a, b]:\n",
    "        sum_values = np.array([np.sum(val) for val in data])\n",
    "        cnt_values = np.array([len(val) for val in data])\n",
    "    \n",
    "        mu_sum = np.mean(sum_values)\n",
    "        mu_cnt = np.mean(cnt_values)\n",
    "    \n",
    "        disp_sum = np.var(sum_values)\n",
    "        disp_cnt = np.var(cnt_values)\n",
    "    \n",
    "        cov = np.cov(sum_values, cnt_values)[0, 1]\n",
    "        \n",
    "        score = np.sum(sum_values) / np.sum(cnt_values)\n",
    "        \n",
    "        disp = (disp_sum / mu_cnt ** 2 - 2 * (mu_sum / mu_cnt ** 3)\\\n",
    "                * cov + (mu_sum ** 2 / mu_cnt ** 4) * disp_cnt) / len(data)\n",
    "        \n",
    "        stat_list.append(score)\n",
    "        disp_list.append(disp) \n",
    "    \n",
    "    stat = disp_list[0] + disp_list[1]\n",
    "    delta = stat_list[1] - stat_list[0]\n",
    "    \n",
    "    t = delta / np.sqrt(stat)\n",
    "    \n",
    "    p_value = (1 - stats.norm.cdf(np.abs(t))) * 2\n",
    "    \n",
    "    return p_value\n"
   ]
  },
  {
   "cell_type": "code",
   "execution_count": 9,
   "id": "daa42bb4",
   "metadata": {},
   "outputs": [
    {
     "name": "stderr",
     "output_type": "stream",
     "text": [
      "100%|██████████████████████████████████████| 1000/1000 [00:04<00:00, 218.99it/s]\n"
     ]
    }
   ],
   "source": [
    "p_values = list()\n",
    "\n",
    "for _ in tqdm(range(1000)):\n",
    "\n",
    "    a = build_groups(1000)\n",
    "    b = build_groups(1000)\n",
    "    \n",
    "    p_value = delta_method(a, b)\n",
    "    p_values.append(int(p_value < 0.05))\n"
   ]
  },
  {
   "cell_type": "code",
   "execution_count": 10,
   "id": "96f2b860",
   "metadata": {},
   "outputs": [
    {
     "data": {
      "text/plain": [
       "0.041"
      ]
     },
     "execution_count": 10,
     "metadata": {},
     "output_type": "execute_result"
    }
   ],
   "source": [
    "np.mean(p_values)"
   ]
  },
  {
   "cell_type": "markdown",
   "id": "7876726b",
   "metadata": {},
   "source": [
    "Type I error at expected level"
   ]
  },
  {
   "cell_type": "markdown",
   "id": "4b25f0c8",
   "metadata": {},
   "source": [
    "### Bootstrap"
   ]
  },
  {
   "cell_type": "code",
   "execution_count": 11,
   "id": "ad85d4bc",
   "metadata": {},
   "outputs": [],
   "source": [
    "def check_bootstrap(a, b, alpha=0.05):\n",
    "    \"\"\"\"\"\"\n",
    "    a_sum = np.array([sum(val) for val in a])\n",
    "    a_cnt = np.array([len(val) for val in a])\n",
    "    \n",
    "    b_sum = np.array([sum(val) for val in b])\n",
    "    b_cnt = np.array([len(val) for val in b])\n",
    "    \n",
    "    a_len = len(a)\n",
    "    b_len = len(b)\n",
    "    \n",
    "    index_a = np.random.choice(np.arange(a_len), size=(1000, a_len), replace=True)\n",
    "    index_b = np.random.choice(np.arange(b_len), size=(1000, b_len), replace=True)\n",
    "    \n",
    "    bootstrap_list = list()\n",
    "    \n",
    "    for idx_a, idx_b in zip(index_a, index_b):\n",
    "        bootstrap_a = (a_sum[idx_a], a_cnt[idx_a])\n",
    "        bootstrap_b = (b_sum[idx_b], b_cnt[idx_b])\n",
    "        \n",
    "        bootstrap = bootstrap_a[0].sum() / bootstrap_a[1].sum() - bootstrap_b[0].sum() / bootstrap_b[1].sum()\n",
    "        bootstrap_list.append(bootstrap)\n",
    "\n",
    "  \n",
    "    left = np.quantile(bootstrap_list, alpha / 2)\n",
    "    right = np.quantile(bootstrap_list, 1 - alpha / 2)\n",
    "\n",
    "    return 1 if (left > 0) or (right < 0) else 0\n"
   ]
  },
  {
   "cell_type": "code",
   "execution_count": 12,
   "id": "b391a421",
   "metadata": {},
   "outputs": [
    {
     "name": "stderr",
     "output_type": "stream",
     "text": [
      "100%|███████████████████████████████████████| 1000/1000 [00:20<00:00, 48.68it/s]\n"
     ]
    }
   ],
   "source": [
    "effects = list()\n",
    "\n",
    "for _ in tqdm(range(1000)):\n",
    "\n",
    "    a = build_groups(1000, 1)\n",
    "    b = build_groups(1000, 1)\n",
    "    \n",
    "    effect = check_bootstrap(a, b, 0.05)\n",
    "    effects.append(effect)\n"
   ]
  },
  {
   "cell_type": "code",
   "execution_count": 13,
   "id": "9a4e248f",
   "metadata": {},
   "outputs": [
    {
     "data": {
      "text/plain": [
       "0.052"
      ]
     },
     "execution_count": 13,
     "metadata": {},
     "output_type": "execute_result"
    }
   ],
   "source": [
    "np.mean(effects)"
   ]
  },
  {
   "cell_type": "markdown",
   "id": "de309a30",
   "metadata": {},
   "source": [
    "### Linearization"
   ]
  },
  {
   "cell_type": "code",
   "execution_count": 14,
   "id": "0c790357",
   "metadata": {},
   "outputs": [],
   "source": [
    "def get_linearization(a: list, b: list) -> float:\n",
    "    \"\"\"\"\"\"\n",
    "    a_users_sum = np.array([np.sum(val) for val in a])\n",
    "    a_users_cnt = np.array([len(val) for val in a])\n",
    "    \n",
    "    b_users_sum = np.array([np.sum(val) for val in b])\n",
    "    b_users_cnt = np.array([len(val) for val in b])\n",
    "    \n",
    "    kappa = np.sum(a_users_sum) / np.sum(a_users_cnt)\n",
    "    \n",
    "    a_linearization = a_users_sum - kappa * a_users_cnt\n",
    "    b_linearization = b_users_sum - kappa * b_users_cnt\n",
    "    \n",
    "    p_value = stats.ttest_ind(a_linearization, b_linearization)[1]\n",
    "        \n",
    "    return p_value\n"
   ]
  },
  {
   "cell_type": "code",
   "execution_count": 15,
   "id": "248a4c8b",
   "metadata": {},
   "outputs": [
    {
     "name": "stderr",
     "output_type": "stream",
     "text": [
      "100%|██████████████████████████████████████| 1000/1000 [00:04<00:00, 219.77it/s]\n"
     ]
    }
   ],
   "source": [
    "p_values = list()\n",
    "\n",
    "for _ in tqdm(range(1000)):\n",
    "\n",
    "    a = build_groups(1000, 1)\n",
    "    b = build_groups(1000, 1)\n",
    "    \n",
    "    p_value = get_linearization(a, b)\n",
    "    p_values.append(int(p_value < 0.05))"
   ]
  },
  {
   "cell_type": "code",
   "execution_count": 16,
   "id": "ea20264b",
   "metadata": {},
   "outputs": [
    {
     "data": {
      "text/plain": [
       "0.05"
      ]
     },
     "execution_count": 16,
     "metadata": {},
     "output_type": "execute_result"
    }
   ],
   "source": [
    "np.mean(p_values)"
   ]
  },
  {
   "cell_type": "code",
   "execution_count": null,
   "id": "51d967c5",
   "metadata": {},
   "outputs": [],
   "source": []
  }
 ],
 "metadata": {
  "kernelspec": {
   "display_name": "Python 3 (ipykernel)",
   "language": "python",
   "name": "python3"
  },
  "language_info": {
   "codemirror_mode": {
    "name": "ipython",
    "version": 3
   },
   "file_extension": ".py",
   "mimetype": "text/x-python",
   "name": "python",
   "nbconvert_exporter": "python",
   "pygments_lexer": "ipython3",
   "version": "3.11.3"
  }
 },
 "nbformat": 4,
 "nbformat_minor": 5
}
