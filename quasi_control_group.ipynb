{
 "cells": [
  {
   "cell_type": "code",
   "execution_count": 1,
   "id": "312aa359",
   "metadata": {
    "ExecuteTime": {
     "end_time": "2024-10-06T19:38:01.996965Z",
     "start_time": "2024-10-06T19:38:01.993719Z"
    }
   },
   "outputs": [],
   "source": [
    "import numpy as np\n",
    "import pandas as pd\n",
    "\n",
    "from sklearn.neighbors import NearestNeighbors\n",
    "from sklearn.preprocessing import StandardScaler\n",
    "from scipy.stats import ttest_ind"
   ]
  },
  {
   "cell_type": "code",
   "execution_count": 2,
   "id": "f74c171b",
   "metadata": {
    "ExecuteTime": {
     "end_time": "2024-10-06T19:38:02.169070Z",
     "start_time": "2024-10-06T19:38:02.166522Z"
    }
   },
   "outputs": [],
   "source": [
    "np.random.seed(42)"
   ]
  },
  {
   "cell_type": "code",
   "execution_count": 3,
   "id": "caa4679a",
   "metadata": {
    "ExecuteTime": {
     "end_time": "2024-10-06T19:38:02.347096Z",
     "start_time": "2024-10-06T19:38:02.344793Z"
    }
   },
   "outputs": [],
   "source": [
    "n_users = 10000"
   ]
  },
  {
   "cell_type": "markdown",
   "id": "6923daa4",
   "metadata": {},
   "source": [
    "Generated dataframe with user characteristics\n",
    "\n",
    "- user_id\n",
    "- age (years old)\n",
    "- income (user income)\n",
    "- page_views (number of pages viewed)\n",
    "- sessions (number of sessions)\n",
    "- received_push (fact of receiving a push)\n",
    "- conversion (user conversion to purchase: target)"
   ]
  },
  {
   "cell_type": "code",
   "execution_count": 4,
   "id": "6a6b5e53",
   "metadata": {
    "ExecuteTime": {
     "end_time": "2024-10-06T19:41:10.991648Z",
     "start_time": "2024-10-06T19:41:10.986225Z"
    }
   },
   "outputs": [],
   "source": [
    "data = pd.DataFrame({\n",
    "    \"user_id\": np.arange(n_users),\n",
    "    \"age\": np.random.randint(18, 60, size=n_users),\n",
    "    \"income\": np.random.randint(20000, 100000, size=n_users),\n",
    "    \"page_views\": np.random.randint(1, 50, size=n_users),\n",
    "    \"sessions\": np.random.randint(1, 20, size=n_users),\n",
    "    \"received_push\": np.random.choice([0, 1], size=n_users, p=[0.4, 0.6]),\n",
    "#     \"conversion\": np.random.choice([0, 1], size=n_users, p=[0.8, 0.2])\n",
    "})"
   ]
  },
  {
   "cell_type": "markdown",
   "id": "4ede14ee",
   "metadata": {},
   "source": [
    "Let's introduce an imbalance into user groups: let the users who received push notifications have a higher income and a greater number of viewed pages\n",
    "\n",
    "Conversion depends on the number of pages viewed"
   ]
  },
  {
   "cell_type": "code",
   "execution_count": 5,
   "id": "67b9f4bb",
   "metadata": {
    "ExecuteTime": {
     "end_time": "2024-10-06T19:41:15.975942Z",
     "start_time": "2024-10-06T19:41:15.968596Z"
    }
   },
   "outputs": [],
   "source": [
    "data.loc[data[\"received_push\"] == 1, \"page_views\"] += np.random.randint(\n",
    "    0,\n",
    "    50,\n",
    "    size=data[data[\"received_push\"] == 1].shape[0]\n",
    ")"
   ]
  },
  {
   "cell_type": "code",
   "execution_count": 6,
   "id": "64b3857a",
   "metadata": {},
   "outputs": [],
   "source": [
    "def calculate_conversion(page_views: int) -> int:\n",
    "    \"\"\"\"\"\"\n",
    "    base_conversion_rate = 0.05\n",
    "    conversion_rate = base_conversion_rate + (page_views / 10) * 0.01\n",
    "    conversion_rate = min(conversion_rate, 1.0)\n",
    "    \n",
    "    return np.random.choice([0, 1], p=[1 - conversion_rate, conversion_rate])"
   ]
  },
  {
   "cell_type": "code",
   "execution_count": 7,
   "id": "8ee2cc59",
   "metadata": {},
   "outputs": [],
   "source": [
    "data[\"conversion\"] = data[\"page_views\"].apply(calculate_conversion)"
   ]
  },
  {
   "cell_type": "markdown",
   "id": "7c31a363",
   "metadata": {},
   "source": [
    "We divide users into groups depending on the fact of receiving a push notification"
   ]
  },
  {
   "cell_type": "code",
   "execution_count": 8,
   "id": "0402f80b",
   "metadata": {
    "ExecuteTime": {
     "end_time": "2024-10-06T19:41:17.333658Z",
     "start_time": "2024-10-06T19:41:17.329141Z"
    }
   },
   "outputs": [],
   "source": [
    "treated = data[data[\"received_push\"] == 1].copy()\n",
    "control = data[data[\"received_push\"] == 0].copy()"
   ]
  },
  {
   "cell_type": "markdown",
   "id": "33e33c5f",
   "metadata": {
    "ExecuteTime": {
     "end_time": "2024-10-06T19:09:42.549705Z",
     "start_time": "2024-10-06T19:09:42.545763Z"
    }
   },
   "source": [
    "Estimation of the target variable before feature balancing"
   ]
  },
  {
   "cell_type": "code",
   "execution_count": 9,
   "id": "4224d3f5",
   "metadata": {
    "ExecuteTime": {
     "end_time": "2024-10-06T19:41:18.556872Z",
     "start_time": "2024-10-06T19:41:18.553154Z"
    }
   },
   "outputs": [
    {
     "data": {
      "text/plain": [
       "5973"
      ]
     },
     "execution_count": 9,
     "metadata": {},
     "output_type": "execute_result"
    }
   ],
   "source": [
    "len(treated)"
   ]
  },
  {
   "cell_type": "code",
   "execution_count": 10,
   "id": "53fe5bec",
   "metadata": {
    "ExecuteTime": {
     "end_time": "2024-10-06T19:41:18.800423Z",
     "start_time": "2024-10-06T19:41:18.796789Z"
    }
   },
   "outputs": [
    {
     "data": {
      "text/plain": [
       "4027"
      ]
     },
     "execution_count": 10,
     "metadata": {},
     "output_type": "execute_result"
    }
   ],
   "source": [
    "len(control)"
   ]
  },
  {
   "cell_type": "code",
   "execution_count": 11,
   "id": "42becb18",
   "metadata": {
    "ExecuteTime": {
     "end_time": "2024-10-06T19:41:19.295748Z",
     "start_time": "2024-10-06T19:41:19.291641Z"
    }
   },
   "outputs": [
    {
     "data": {
      "text/plain": [
       "0.09409007199062448"
      ]
     },
     "execution_count": 11,
     "metadata": {},
     "output_type": "execute_result"
    }
   ],
   "source": [
    "treated[\"conversion\"].mean()"
   ]
  },
  {
   "cell_type": "code",
   "execution_count": 12,
   "id": "fe4d82cd",
   "metadata": {
    "ExecuteTime": {
     "end_time": "2024-10-06T19:41:19.928446Z",
     "start_time": "2024-10-06T19:41:19.924411Z"
    }
   },
   "outputs": [
    {
     "data": {
      "text/plain": [
       "0.06977899180531413"
      ]
     },
     "execution_count": 12,
     "metadata": {},
     "output_type": "execute_result"
    }
   ],
   "source": [
    "control[\"conversion\"].mean()"
   ]
  },
  {
   "cell_type": "code",
   "execution_count": 13,
   "id": "5d3b6278",
   "metadata": {
    "ExecuteTime": {
     "end_time": "2024-10-06T19:41:20.904700Z",
     "start_time": "2024-10-06T19:41:20.900283Z"
    }
   },
   "outputs": [
    {
     "name": "stdout",
     "output_type": "stream",
     "text": [
      "T-stat: 4.295, P-value: 0.000\n"
     ]
    }
   ],
   "source": [
    "stat, p_value = ttest_ind(treated[\"conversion\"], control[\"conversion\"])\n",
    "print(f\"T-stat: {stat:.3f}, P-value: {p_value:.3f}\")"
   ]
  },
  {
   "cell_type": "markdown",
   "id": "22190ca9",
   "metadata": {},
   "source": [
    "Selecting Important Features for Balancing"
   ]
  },
  {
   "cell_type": "code",
   "execution_count": 14,
   "id": "b7a3d089",
   "metadata": {
    "ExecuteTime": {
     "end_time": "2024-10-06T19:41:22.509205Z",
     "start_time": "2024-10-06T19:41:22.506289Z"
    }
   },
   "outputs": [],
   "source": [
    "features = [\"age\", \"income\", \"page_views\", \"sessions\"]"
   ]
  },
  {
   "cell_type": "code",
   "execution_count": 15,
   "id": "65f0f80a",
   "metadata": {
    "ExecuteTime": {
     "end_time": "2024-10-06T19:41:22.652429Z",
     "start_time": "2024-10-06T19:41:22.642950Z"
    }
   },
   "outputs": [],
   "source": [
    "scaler = StandardScaler()\n",
    "treated_scaled = scaler.fit_transform(treated[features])\n",
    "control_scaled = scaler.transform(control[features])"
   ]
  },
  {
   "cell_type": "code",
   "execution_count": 16,
   "id": "a424efcf",
   "metadata": {
    "ExecuteTime": {
     "end_time": "2024-10-06T19:41:22.827948Z",
     "start_time": "2024-10-06T19:41:22.822592Z"
    }
   },
   "outputs": [],
   "source": [
    "knn = NearestNeighbors(n_neighbors=1, metric=\"manhattan\").fit(control_scaled)\n",
    "distances, indices = knn.kneighbors(treated_scaled)"
   ]
  },
  {
   "cell_type": "code",
   "execution_count": 17,
   "id": "d633c519",
   "metadata": {
    "ExecuteTime": {
     "end_time": "2024-10-06T19:41:23.052362Z",
     "start_time": "2024-10-06T19:41:23.049569Z"
    }
   },
   "outputs": [],
   "source": [
    "matched_control_indices = indices.flatten()\n",
    "matched_control = control.iloc[matched_control_indices].copy()"
   ]
  },
  {
   "cell_type": "code",
   "execution_count": 18,
   "id": "51472fd8",
   "metadata": {
    "ExecuteTime": {
     "end_time": "2024-10-06T19:41:23.322278Z",
     "start_time": "2024-10-06T19:41:23.319414Z"
    }
   },
   "outputs": [
    {
     "name": "stdout",
     "output_type": "stream",
     "text": [
      "Size test group: 5973\n",
      "Size control group: 5973\n"
     ]
    }
   ],
   "source": [
    "print(f\"Size test group: {len(treated)}\")\n",
    "print(f\"Size control group: {len(matched_control)}\")"
   ]
  },
  {
   "cell_type": "code",
   "execution_count": 19,
   "id": "e1b97a06",
   "metadata": {
    "ExecuteTime": {
     "end_time": "2024-10-06T19:41:24.231895Z",
     "start_time": "2024-10-06T19:41:24.228886Z"
    }
   },
   "outputs": [],
   "source": [
    "treated_conversion_rate = treated[\"conversion\"].mean()\n",
    "matched_control_conversion_rate = matched_control[\"conversion\"].mean()"
   ]
  },
  {
   "cell_type": "code",
   "execution_count": 20,
   "id": "e93a2a66",
   "metadata": {
    "ExecuteTime": {
     "end_time": "2024-10-06T19:41:25.012482Z",
     "start_time": "2024-10-06T19:41:25.009362Z"
    }
   },
   "outputs": [
    {
     "name": "stdout",
     "output_type": "stream",
     "text": [
      "Conversion in test group: 0.09409\n",
      "Conversion in control group: 0.08522\n"
     ]
    }
   ],
   "source": [
    "print(f\"Conversion in test group: {treated_conversion_rate:.5f}\")\n",
    "print(f\"Conversion in control group: {matched_control_conversion_rate:.5f}\")"
   ]
  },
  {
   "cell_type": "code",
   "execution_count": 21,
   "id": "d92bfd2e",
   "metadata": {
    "ExecuteTime": {
     "end_time": "2024-10-06T19:41:27.442314Z",
     "start_time": "2024-10-06T19:41:27.436957Z"
    }
   },
   "outputs": [
    {
     "name": "stdout",
     "output_type": "stream",
     "text": [
      "T-stat: 1.697, P-value: 0.090\n"
     ]
    }
   ],
   "source": [
    "stat, p_value = ttest_ind(treated[\"conversion\"], matched_control[\"conversion\"])\n",
    "print(f\"T-stat: {stat:.3f}, P-value: {p_value:.3f}\")"
   ]
  },
  {
   "cell_type": "code",
   "execution_count": null,
   "id": "a359e807",
   "metadata": {},
   "outputs": [],
   "source": []
  }
 ],
 "metadata": {
  "kernelspec": {
   "display_name": "Python 3 (ipykernel)",
   "language": "python",
   "name": "python3"
  },
  "language_info": {
   "codemirror_mode": {
    "name": "ipython",
    "version": 3
   },
   "file_extension": ".py",
   "mimetype": "text/x-python",
   "name": "python",
   "nbconvert_exporter": "python",
   "pygments_lexer": "ipython3",
   "version": "3.11.9"
  },
  "toc": {
   "base_numbering": 1,
   "nav_menu": {},
   "number_sections": true,
   "sideBar": true,
   "skip_h1_title": false,
   "title_cell": "Table of Contents",
   "title_sidebar": "Contents",
   "toc_cell": false,
   "toc_position": {},
   "toc_section_display": true,
   "toc_window_display": false
  },
  "varInspector": {
   "cols": {
    "lenName": 16,
    "lenType": 16,
    "lenVar": 40
   },
   "kernels_config": {
    "python": {
     "delete_cmd_postfix": "",
     "delete_cmd_prefix": "del ",
     "library": "var_list.py",
     "varRefreshCmd": "print(var_dic_list())"
    },
    "r": {
     "delete_cmd_postfix": ") ",
     "delete_cmd_prefix": "rm(",
     "library": "var_list.r",
     "varRefreshCmd": "cat(var_dic_list()) "
    }
   },
   "types_to_exclude": [
    "module",
    "function",
    "builtin_function_or_method",
    "instance",
    "_Feature"
   ],
   "window_display": false
  }
 },
 "nbformat": 4,
 "nbformat_minor": 5
}
