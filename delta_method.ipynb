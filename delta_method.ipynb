{
 "cells": [
  {
   "cell_type": "code",
   "execution_count": 233,
   "id": "8506cd9f",
   "metadata": {},
   "outputs": [],
   "source": [
    "import pandas as pd\n",
    "import numpy as np\n",
    "import matplotlib.pyplot as plt\n",
    "\n",
    "from scipy import stats\n",
    "from tqdm import tqdm"
   ]
  },
  {
   "cell_type": "code",
   "execution_count": 234,
   "id": "23f964b1",
   "metadata": {},
   "outputs": [],
   "source": [
    "def build_groups(n_users: int, min_orders: int = 0) -> list:\n",
    "    \"\"\"Generating data with simulated AOV metric\"\"\"\n",
    "\n",
    "    result = list()\n",
    "\n",
    "    user_orders = np.random.randint(min_orders, 10, n_users)\n",
    "    avg_costs = np.random.normal(1000, 100, n_users)\n",
    "\n",
    "    for orders, cost in zip(user_orders, avg_costs):\n",
    "        result.append(np.random.normal(cost, 100, orders))\n",
    "        \n",
    "    return result\n"
   ]
  },
  {
   "cell_type": "markdown",
   "id": "8213bbbe",
   "metadata": {},
   "source": [
    "Let's calculate the statistical significance using a t-test in a naive way expanding the purchases of each user\n",
    "\n",
    "And let’s estimate the share of errors of the first type"
   ]
  },
  {
   "cell_type": "code",
   "execution_count": 239,
   "id": "3e4b53eb",
   "metadata": {},
   "outputs": [
    {
     "name": "stderr",
     "output_type": "stream",
     "text": [
      "100%|██████████████████████████████████████| 1000/1000 [00:01<00:00, 522.72it/s]\n"
     ]
    }
   ],
   "source": [
    "p_values = list()\n",
    "\n",
    "for _ in tqdm(range(1000)):\n",
    "\n",
    "    a = np.hstack(build_groups(1000, 1))\n",
    "    b = np.hstack(build_groups(1000, 1))\n",
    "    \n",
    "    p_value = stats.ttest_ind(a, b)[1]\n",
    "    p_values.append(p_value < 0.05)"
   ]
  },
  {
   "cell_type": "code",
   "execution_count": 240,
   "id": "b822e293",
   "metadata": {},
   "outputs": [
    {
     "data": {
      "text/plain": [
       "0.5015"
      ]
     },
     "execution_count": 240,
     "metadata": {},
     "output_type": "execute_result"
    }
   ],
   "source": [
    "np.mean(pvalues)"
   ]
  },
  {
   "cell_type": "markdown",
   "id": "c55a945f",
   "metadata": {},
   "source": [
    "The share of type I errors is greater than the expected value of 0.05"
   ]
  },
  {
   "cell_type": "markdown",
   "id": "b5aa1146",
   "metadata": {},
   "source": [
    "Let's calculate the statistical significance of the t-test by averaging the user's purchase costs (average of the average)\n",
    "\n",
    "And let’s estimate the share of errors of the first type"
   ]
  },
  {
   "cell_type": "code",
   "execution_count": 241,
   "id": "13300e44",
   "metadata": {},
   "outputs": [
    {
     "name": "stderr",
     "output_type": "stream",
     "text": [
      "100%|██████████████████████████████████████| 1000/1000 [00:05<00:00, 190.76it/s]\n"
     ]
    }
   ],
   "source": [
    "p_values = list()\n",
    "\n",
    "for _ in tqdm(range(1000)):\n",
    "\n",
    "    a = [np.mean(val) for val in build_groups(1000, 1)]\n",
    "    b = [np.mean(val) for val in build_groups(1000, 1)]\n",
    "    \n",
    "    p_value = stats.ttest_ind(a, b)[1]\n",
    "    p_values.append(p_value < 0.05)"
   ]
  },
  {
   "cell_type": "code",
   "execution_count": 242,
   "id": "1f2f18c4",
   "metadata": {},
   "outputs": [
    {
     "data": {
      "text/plain": [
       "0.053"
      ]
     },
     "execution_count": 242,
     "metadata": {},
     "output_type": "execute_result"
    }
   ],
   "source": [
    "np.mean(p_values)"
   ]
  },
  {
   "cell_type": "markdown",
   "id": "2f58583d",
   "metadata": {},
   "source": [
    "The value of the share of errors of the first type corresponds to the expected"
   ]
  },
  {
   "cell_type": "markdown",
   "id": "6c75d024",
   "metadata": {},
   "source": [
    "But such a metric is not aligned with the original metric of the average bill"
   ]
  },
  {
   "cell_type": "code",
   "execution_count": 243,
   "id": "51200507",
   "metadata": {},
   "outputs": [
    {
     "name": "stdout",
     "output_type": "stream",
     "text": [
      "AOV I: 1333.3333333333333\n",
      "AOV II: 1350.0\n",
      "\n",
      "Average per user I: 1500.0\n",
      "Average per user I: 1262.5\n"
     ]
    }
   ],
   "source": [
    "a = {\n",
    "    \"user1\": [1000, 1000],\n",
    "    \"user2\": [2000]\n",
    "}\n",
    "\n",
    "b = {\n",
    "    \"user1\": [1500, 1550],\n",
    "    \"user2\": [1000]\n",
    "}\n",
    "\n",
    "aov_a, aov_b = np.mean(np.hstack(list(a.values()))), np.mean(np.hstack(list(b.values())))\n",
    "mean_mean_a = (np.mean(a[\"user1\"]) + np.mean(a[\"user2\"])) / len(a)\n",
    "mean_mean_b = (np.mean(b[\"user1\"]) + np.mean(b[\"user2\"])) / len(b)\n",
    "\n",
    "print(f\"AOV I: {aov_a}\\nAOV II: {aov_b}\\n\\nAverage per user I: {mean_mean_a}\\nAverage per user I: {mean_mean_b}\")"
   ]
  },
  {
   "cell_type": "markdown",
   "id": "e160e3d8",
   "metadata": {},
   "source": [
    "Metrics are not directed equally"
   ]
  },
  {
   "cell_type": "code",
   "execution_count": 244,
   "id": "7eee9532",
   "metadata": {},
   "outputs": [],
   "source": [
    "def delta_method(a: list, b: list) -> float:\n",
    "    \"\"\"Returns p-value calculated by the delta method\"\"\"\n",
    "    \n",
    "    stat_list = list()\n",
    "    disp_list = list()\n",
    "    \n",
    "    for data in [a, b]:\n",
    "        sum_values = np.array([np.sum(val) for val in data])\n",
    "        cnt_values = np.array([len(val) for val in data])\n",
    "    \n",
    "        mu_sum = np.mean(sum_values)\n",
    "        mu_cnt = np.mean(cnt_values)\n",
    "    \n",
    "        disp_sum = np.var(sum_values)\n",
    "        disp_cnt = np.var(cnt_values)\n",
    "    \n",
    "        cov = np.cov(sum_values, cnt_values)[0, 1]\n",
    "        \n",
    "        score = np.sum(sum_values) / np.sum(cnt_values)\n",
    "        \n",
    "        disp = (disp_sum / mu_cnt ** 2 - 2 * (mu_sum / mu_cnt ** 3)\\\n",
    "                * cov + (mu_sum ** 2 / mu_cnt ** 4) * disp_cnt) / len(data)\n",
    "        \n",
    "        stat_list.append(score)\n",
    "        disp_list.append(disp) \n",
    "    \n",
    "    stat = disp_list[0] + disp_list[1]\n",
    "    delta = stat_list[1] - stat_list[0]\n",
    "    \n",
    "    t = delta / np.sqrt(stat)\n",
    "    \n",
    "    p_value = (1 - stats.norm.cdf(np.abs(t))) * 2\n",
    "    \n",
    "    return p_value\n"
   ]
  },
  {
   "cell_type": "code",
   "execution_count": 245,
   "id": "5b414775",
   "metadata": {},
   "outputs": [
    {
     "name": "stderr",
     "output_type": "stream",
     "text": [
      "100%|██████████████████████████████████████| 3000/3000 [00:13<00:00, 226.07it/s]\n"
     ]
    }
   ],
   "source": [
    "p_values = list()\n",
    "\n",
    "for _ in tqdm(range(3000)):\n",
    "\n",
    "    a = build_groups(1000)\n",
    "    b = build_groups(1000)\n",
    "    \n",
    "    p_value = delta_method(a, b)\n",
    "    p_values.append(int(p_value < 0.05))\n"
   ]
  },
  {
   "cell_type": "code",
   "execution_count": 246,
   "id": "8e794466",
   "metadata": {},
   "outputs": [
    {
     "data": {
      "text/plain": [
       "0.05266666666666667"
      ]
     },
     "execution_count": 246,
     "metadata": {},
     "output_type": "execute_result"
    }
   ],
   "source": [
    "np.mean(p_values)"
   ]
  },
  {
   "cell_type": "markdown",
   "id": "33ce12c1",
   "metadata": {},
   "source": [
    "Type I error at expected level"
   ]
  },
  {
   "cell_type": "code",
   "execution_count": null,
   "id": "4dad0a2b",
   "metadata": {},
   "outputs": [],
   "source": []
  }
 ],
 "metadata": {
  "kernelspec": {
   "display_name": "Python 3 (ipykernel)",
   "language": "python",
   "name": "python3"
  },
  "language_info": {
   "codemirror_mode": {
    "name": "ipython",
    "version": 3
   },
   "file_extension": ".py",
   "mimetype": "text/x-python",
   "name": "python",
   "nbconvert_exporter": "python",
   "pygments_lexer": "ipython3",
   "version": "3.11.3"
  }
 },
 "nbformat": 4,
 "nbformat_minor": 5
}
